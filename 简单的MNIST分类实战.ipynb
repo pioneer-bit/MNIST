{
 "cells": [
  {
   "cell_type": "markdown",
   "metadata": {},
   "source": [
    "   ### 1 前馈神经网络进行MNIST数据集分类实战"
   ]
  },
  {
   "cell_type": "code",
   "execution_count": 58,
   "metadata": {},
   "outputs": [],
   "source": [
    "import tensorflow as tf\n",
    "import matplotlib.pyplot as plt"
   ]
  },
  {
   "cell_type": "markdown",
   "metadata": {},
   "source": [
    "#### 输入层 h0 784 =28*28\n",
    "#### 隐藏层 h1 256 \n",
    "#### 隐藏层 h2 128\n",
    "#### 输出层 h3 10"
   ]
  },
  {
   "cell_type": "code",
   "execution_count": 59,
   "metadata": {},
   "outputs": [],
   "source": [
    "# 初始化参数\n",
    "w1 = tf.Variable(tf.random.truncated_normal([784,256],stddev = 0.1)) #一个范围内的正态分布\n",
    "w2 = tf.Variable(tf.random.truncated_normal([256,128],stddev = 0.1))\n",
    "w3 = tf.Variable(tf.random.truncated_normal([128,10],stddev = 0.1))\n",
    "                 \n",
    "b1 = tf.Variable(tf.zeros([256]))\n",
    "b2 = tf.Variable(tf.zeros([128]))\n",
    "b3 = tf.Variable(tf.zeros([10]))"
   ]
  },
  {
   "cell_type": "code",
   "execution_count": 60,
   "metadata": {},
   "outputs": [
    {
     "data": {
      "text/plain": [
       "<tf.Variable 'Variable:0' shape=(784, 256) dtype=float32, numpy=\n",
       "array([[-0.04755072,  0.00207946,  0.00872061, ..., -0.02881118,\n",
       "        -0.03569692,  0.05795267],\n",
       "       [-0.02463659, -0.04451752,  0.06237141, ...,  0.18007052,\n",
       "        -0.10169525, -0.06794263],\n",
       "       [ 0.00579308, -0.0631073 ,  0.09655803, ...,  0.057343  ,\n",
       "        -0.13541989, -0.08262181],\n",
       "       ...,\n",
       "       [ 0.02575167, -0.06256105,  0.01551475, ...,  0.07388143,\n",
       "         0.06288584,  0.07200988],\n",
       "       [-0.02198852,  0.00480348,  0.06067487, ...,  0.03428278,\n",
       "        -0.05411753,  0.01561964],\n",
       "       [-0.06489001,  0.06012104, -0.11855489, ...,  0.12535335,\n",
       "         0.16253746,  0.1741872 ]], dtype=float32)>"
      ]
     },
     "execution_count": 60,
     "metadata": {},
     "output_type": "execute_result"
    }
   ],
   "source": [
    "w1\n"
   ]
  },
  {
   "cell_type": "code",
   "execution_count": 61,
   "metadata": {},
   "outputs": [],
   "source": [
    "(x_train,y_train),(x_test,y_test)=tf.keras.datasets.mnist.load_data('D:\\jupyter_workspace\\MNIST_npz\\mnist.npz')"
   ]
  },
  {
   "cell_type": "code",
   "execution_count": 62,
   "metadata": {},
   "outputs": [
    {
     "data": {
      "text/plain": [
       "((60000, 28, 28), (60000,), (10000, 28, 28), (10000,))"
      ]
     },
     "execution_count": 62,
     "metadata": {},
     "output_type": "execute_result"
    }
   ],
   "source": [
    "x_train.shape,y_train.shape,x_test.shape,y_test.shape"
   ]
  },
  {
   "cell_type": "code",
   "execution_count": 63,
   "metadata": {},
   "outputs": [
    {
     "data": {
      "text/plain": [
       "numpy.ndarray"
      ]
     },
     "execution_count": 63,
     "metadata": {},
     "output_type": "execute_result"
    }
   ],
   "source": [
    "type(x_train)"
   ]
  },
  {
   "cell_type": "code",
   "execution_count": 64,
   "metadata": {},
   "outputs": [],
   "source": [
    "x_train = tf.convert_to_tensor(x_train,dtype = tf.float32)/255.\n",
    "y_train = tf.convert_to_tensor(y_train,dtype = tf.int32)"
   ]
  },
  {
   "cell_type": "code",
   "execution_count": 65,
   "metadata": {},
   "outputs": [
    {
     "data": {
      "text/plain": [
       "TensorShape([60000, 784])"
      ]
     },
     "execution_count": 65,
     "metadata": {},
     "output_type": "execute_result"
    }
   ],
   "source": [
    "# (60000,784)\n",
    "x_train = tf.reshape( x_train ,[-1,784]) #-1就是指任意多个\n",
    "x_train.shape"
   ]
  },
  {
   "cell_type": "code",
   "execution_count": 66,
   "metadata": {},
   "outputs": [
    {
     "data": {
      "text/plain": [
       "tensorflow.python.framework.ops.EagerTensor"
      ]
     },
     "execution_count": 66,
     "metadata": {},
     "output_type": "execute_result"
    }
   ],
   "source": [
    "type(x_train)"
   ]
  },
  {
   "cell_type": "markdown",
   "metadata": {},
   "source": [
    "## 完成一次前向计算"
   ]
  },
  {
   "cell_type": "code",
   "execution_count": 67,
   "metadata": {},
   "outputs": [
    {
     "data": {
      "text/plain": [
       "(TensorShape([60000, 784]), TensorShape([784, 256]), TensorShape([256]))"
      ]
     },
     "execution_count": 67,
     "metadata": {},
     "output_type": "execute_result"
    }
   ],
   "source": [
    "x_train.shape,w1.shape,b1.shape"
   ]
  },
  {
   "cell_type": "code",
   "execution_count": 68,
   "metadata": {},
   "outputs": [],
   "source": [
    "# h1 :net1(z=sum(wx+b))  out1(relu(z))\n",
    "#[60000,784]@[784*256]+[256]\n",
    "net1 = x_train@w1 +tf.broadcast_to(b1,[x_train.shape[0],256])\n",
    "# net1 = x_train@w1 +b1 #实际上自动广播  @即是矩阵乘法\n",
    "out1 = tf.nn.relu(net1 )"
   ]
  },
  {
   "cell_type": "code",
   "execution_count": 69,
   "metadata": {},
   "outputs": [],
   "source": [
    "# h2 :net2(z=sum(wx+b))  out2(relu(z))\n",
    "#[60000,784]@[784*128]+[128]\n",
    "net2 = out1 @ w2 + b2\n",
    "out2 = tf.nn.relu(net2)"
   ]
  },
  {
   "cell_type": "code",
   "execution_count": 70,
   "metadata": {},
   "outputs": [
    {
     "data": {
      "text/plain": [
       "TensorShape([60000, 10])"
      ]
     },
     "execution_count": 70,
     "metadata": {},
     "output_type": "execute_result"
    }
   ],
   "source": [
    "# h3 :net3(z=sum(wx+b))  out3(relu(z))\n",
    "#[60000,128]@[784*256]+256\n",
    "net3 = out2 @ w3 + b3\n",
    "out3 = tf.nn.softmax(net3)\n",
    "out3.shape"
   ]
  },
  {
   "cell_type": "code",
   "execution_count": 71,
   "metadata": {},
   "outputs": [
    {
     "data": {
      "text/plain": [
       "<tf.Tensor: shape=(60000, 10), dtype=float32, numpy=\n",
       "array([[0.10250881, 0.1544807 , 0.1470399 , ..., 0.08663844, 0.02137834,\n",
       "        0.10157171],\n",
       "       [0.0765726 , 0.09810171, 0.20953363, ..., 0.14222673, 0.02447459,\n",
       "        0.13509649],\n",
       "       [0.12106723, 0.13140501, 0.11393224, ..., 0.10770213, 0.04389556,\n",
       "        0.09731842],\n",
       "       ...,\n",
       "       [0.10987226, 0.13099352, 0.16238156, ..., 0.1383588 , 0.04369303,\n",
       "        0.08217977],\n",
       "       [0.08393246, 0.16083477, 0.15903711, ..., 0.14776272, 0.06746241,\n",
       "        0.10945645],\n",
       "       [0.07520903, 0.17586192, 0.08616374, ..., 0.13417898, 0.02266121,\n",
       "        0.05458422]], dtype=float32)>"
      ]
     },
     "execution_count": 71,
     "metadata": {},
     "output_type": "execute_result"
    }
   ],
   "source": [
    "out3"
   ]
  },
  {
   "cell_type": "code",
   "execution_count": 72,
   "metadata": {},
   "outputs": [
    {
     "data": {
      "text/plain": [
       "<tf.Tensor: shape=(60000,), dtype=int32, numpy=array([5, 0, 4, ..., 5, 6, 8])>"
      ]
     },
     "execution_count": 72,
     "metadata": {},
     "output_type": "execute_result"
    }
   ],
   "source": [
    "y_train"
   ]
  },
  {
   "cell_type": "code",
   "execution_count": 73,
   "metadata": {},
   "outputs": [
    {
     "data": {
      "text/plain": [
       "<tf.Tensor: shape=(60000, 10), dtype=float32, numpy=\n",
       "array([[0., 0., 0., ..., 0., 0., 0.],\n",
       "       [1., 0., 0., ..., 0., 0., 0.],\n",
       "       [0., 0., 0., ..., 0., 0., 0.],\n",
       "       ...,\n",
       "       [0., 0., 0., ..., 0., 0., 0.],\n",
       "       [0., 0., 0., ..., 0., 0., 0.],\n",
       "       [0., 0., 0., ..., 0., 1., 0.]], dtype=float32)>"
      ]
     },
     "execution_count": 73,
     "metadata": {},
     "output_type": "execute_result"
    }
   ],
   "source": [
    "y_train = tf.one_hot(y_train,depth=10)\n",
    "y_train"
   ]
  },
  {
   "cell_type": "code",
   "execution_count": 74,
   "metadata": {},
   "outputs": [
    {
     "data": {
      "text/plain": [
       "TensorShape([60000, 10])"
      ]
     },
     "execution_count": 74,
     "metadata": {},
     "output_type": "execute_result"
    }
   ],
   "source": [
    "y_train.shape"
   ]
  },
  {
   "cell_type": "code",
   "execution_count": 75,
   "metadata": {},
   "outputs": [
    {
     "data": {
      "text/plain": [
       "<tf.Tensor: shape=(), dtype=float32, numpy=2.3057964>"
      ]
     },
     "execution_count": 75,
     "metadata": {},
     "output_type": "execute_result"
    }
   ],
   "source": [
    "loss = tf.nn.softmax_cross_entropy_with_logits(labels = y_train,logits = out3)\n",
    "loss = tf.reduce_mean(loss)#求均值\n",
    "loss"
   ]
  },
  {
   "cell_type": "markdown",
   "metadata": {},
   "source": [
    "### 一次反向传播"
   ]
  },
  {
   "cell_type": "code",
   "execution_count": 76,
   "metadata": {},
   "outputs": [],
   "source": [
    "with tf.GradientTape() as tape:\n",
    "    tape.watch([w1,b1,w2,b2,w3,b3])\n",
    "    out3 = tf.nn.softmax(tf.nn.relu(tf.nn.relu(x_train@w1 +b1 ) @ w2 + b2) @ w3 + b3)\n",
    "    loss = tf.reduce_mean(tf.nn.softmax_cross_entropy_with_logits(labels = y_train,logits = out3))"
   ]
  },
  {
   "cell_type": "code",
   "execution_count": 77,
   "metadata": {},
   "outputs": [
    {
     "data": {
      "text/plain": [
       "<tf.Tensor: shape=(), dtype=float32, numpy=2.3057964>"
      ]
     },
     "execution_count": 77,
     "metadata": {},
     "output_type": "execute_result"
    }
   ],
   "source": [
    "loss"
   ]
  },
  {
   "cell_type": "code",
   "execution_count": 78,
   "metadata": {},
   "outputs": [],
   "source": [
    "grads = tape.gradient(loss,[w1,b1,w2,b2,w3,b3])"
   ]
  },
  {
   "cell_type": "code",
   "execution_count": 79,
   "metadata": {},
   "outputs": [],
   "source": [
    "lr = 0.01"
   ]
  },
  {
   "cell_type": "code",
   "execution_count": 80,
   "metadata": {},
   "outputs": [],
   "source": [
    "#更新参数\n",
    "# w = w-lr*grads\n"
   ]
  },
  {
   "cell_type": "code",
   "execution_count": 81,
   "metadata": {},
   "outputs": [
    {
     "name": "stdout",
     "output_type": "stream",
     "text": [
      "0 loss: 2.3057963848114014\n",
      "500 loss: 2.171538829803467\n",
      "1000 loss: 2.0054893493652344\n",
      "1500 loss: 1.8713929653167725\n",
      "2000 loss: 1.8000496625900269\n",
      "2500 loss: 1.7680507898330688\n",
      "3000 loss: 1.7508295774459839\n",
      "3500 loss: 1.7401288747787476\n",
      "4000 loss: 1.732767939567566\n",
      "4500 loss: 1.7273296117782593\n",
      "5000 loss: 1.7230875492095947\n",
      "5500 loss: 1.7196515798568726\n",
      "6000 loss: 1.7167887687683105\n",
      "6500 loss: 1.714351773262024\n",
      "7000 loss: 1.7122381925582886\n",
      "7500 loss: 1.71038019657135\n",
      "8000 loss: 1.7087316513061523\n",
      "8500 loss: 1.7072510719299316\n",
      "9000 loss: 1.7059093713760376\n",
      "9500 loss: 1.704683780670166\n",
      "10000 loss: 1.7035576105117798\n",
      "10500 loss: 1.7025163173675537\n",
      "11000 loss: 1.7015502452850342\n",
      "11500 loss: 1.7006479501724243\n",
      "12000 loss: 1.6998010873794556\n",
      "12500 loss: 1.6990046501159668\n",
      "13000 loss: 1.6982536315917969\n",
      "13500 loss: 1.6975432634353638\n",
      "14000 loss: 1.6968683004379272\n",
      "14500 loss: 1.6962246894836426\n",
      "15000 loss: 1.6956108808517456\n",
      "15500 loss: 1.6950242519378662\n",
      "16000 loss: 1.694461703300476\n",
      "16500 loss: 1.6939224004745483\n",
      "17000 loss: 1.6934033632278442\n",
      "17500 loss: 1.6929036378860474\n",
      "18000 loss: 1.6924214363098145\n",
      "18500 loss: 1.6919552087783813\n",
      "19000 loss: 1.691503643989563\n",
      "19500 loss: 1.6910656690597534\n",
      "20000 loss: 1.6906402111053467\n",
      "20500 loss: 1.690227746963501\n",
      "21000 loss: 1.6898280382156372\n",
      "21500 loss: 1.6894396543502808\n",
      "22000 loss: 1.6890618801116943\n",
      "22500 loss: 1.688693881034851\n",
      "23000 loss: 1.6883350610733032\n",
      "23500 loss: 1.6879853010177612\n",
      "24000 loss: 1.6876444816589355\n",
      "24500 loss: 1.6873114109039307\n",
      "25000 loss: 1.686985969543457\n",
      "25500 loss: 1.6866668462753296\n",
      "26000 loss: 1.6863535642623901\n",
      "26500 loss: 1.6860461235046387\n",
      "27000 loss: 1.6857445240020752\n",
      "27500 loss: 1.6854486465454102\n",
      "28000 loss: 1.6851577758789062\n",
      "28500 loss: 1.684870958328247\n",
      "29000 loss: 1.6845892667770386\n",
      "29500 loss: 1.6843122243881226\n",
      "30000 loss: 1.6840388774871826\n",
      "Wall time: 3h 39min 26s\n"
     ]
    }
   ],
   "source": [
    "%%time\n",
    "All_loss=[]\n",
    "for step in range(30001):\n",
    "    with tf.GradientTape() as tape:\n",
    "        tape.watch([w1,b1,w2,b2,w3,b3])\n",
    "        out3 = tf.nn.softmax(tf.nn.relu(tf.nn.relu(x_train@w1 +b1 ) @ w2 + b2) @ w3 + b3)\n",
    "        loss = tf.reduce_mean(tf.nn.softmax_cross_entropy_with_logits(labels = y_train,logits = out3))\n",
    "    All_loss.append(loss)\n",
    "    grads = tape.gradient(loss,[w1,b1,w2,b2,w3,b3])\n",
    "    #更新参数\n",
    "    w1 = w1-lr*grads[0]\n",
    "    b1 = b1-lr*grads[1]\n",
    "    w2 = w2-lr*grads[2]\n",
    "    b2 = b2-lr*grads[3]\n",
    "    w3 = w3-lr*grads[4]\n",
    "    b3 = b3-lr*grads[5]\n",
    "    if step%500 ==0:\n",
    "        print(step,'loss:',float(loss))\n",
    "    \n",
    "    "
   ]
  },
  {
   "cell_type": "code",
   "execution_count": 82,
   "metadata": {},
   "outputs": [
    {
     "name": "stdout",
     "output_type": "stream",
     "text": [
      "Wall time: 4.29 s\n"
     ]
    },
    {
     "data": {
      "text/plain": [
       "[<matplotlib.lines.Line2D at 0x275a7a76250>]"
      ]
     },
     "execution_count": 82,
     "metadata": {},
     "output_type": "execute_result"
    },
    {
     "data": {
      "image/png": "[encoded data removed]",
      "text/plain": [
       "<Figure size 432x288 with 1 Axes>"
      ]
     },
     "metadata": {
      "needs_background": "light"
     },
     "output_type": "display_data"
    }
   ],
   "source": [
    "%time plt.plot(All_loss)"
   ]
  },
  {
   "cell_type": "markdown",
   "metadata": {},
   "source": [
    "## 测试模型"
   ]
  },
  {
   "cell_type": "code",
   "execution_count": 83,
   "metadata": {},
   "outputs": [],
   "source": [
    "x_test = tf.convert_to_tensor(x_test,dtype = tf.float32)/255.\n",
    "y_test = tf.convert_to_tensor(y_test,dtype = tf.int32)\n",
    "x_test = tf.reshape(x_test ,[-1,784]) #-1就是指任意多个"
   ]
  },
  {
   "cell_type": "code",
   "execution_count": 84,
   "metadata": {},
   "outputs": [
    {
     "data": {
      "text/plain": [
       "<tf.Tensor: shape=(10000, 10), dtype=float32, numpy=\n",
       "array([[1.2784282e-06, 5.6039142e-11, 4.2602059e-07, ..., 9.9994874e-01,\n",
       "        6.4408362e-10, 5.5808431e-07],\n",
       "       [3.6787133e-05, 6.3898042e-08, 9.9982649e-01, ..., 8.3725988e-14,\n",
       "        5.9339621e-13, 4.0150126e-13],\n",
       "       [7.1549225e-06, 9.9910176e-01, 3.2063463e-04, ..., 1.8684501e-04,\n",
       "        3.6432382e-06, 5.8372920e-05],\n",
       "       ...,\n",
       "       [7.1653794e-08, 2.9509112e-10, 4.5537996e-09, ..., 4.9166970e-06,\n",
       "        2.8419549e-09, 2.4720185e-04],\n",
       "       [1.1303473e-03, 1.0502223e-02, 9.1634465e-06, ..., 6.0405193e-07,\n",
       "        1.0764304e-06, 5.1595267e-05],\n",
       "       [2.5698807e-08, 5.6748985e-14, 1.2612566e-06, ..., 3.4083368e-17,\n",
       "        3.0616348e-14, 1.1822971e-13]], dtype=float32)>"
      ]
     },
     "execution_count": 84,
     "metadata": {},
     "output_type": "execute_result"
    }
   ],
   "source": [
    "out3 = tf.nn.softmax(tf.nn.relu(tf.nn.relu(x_test@w1 +b1 ) @ w2 + b2) @ w3 + b3)\n",
    "out3"
   ]
  },
  {
   "cell_type": "code",
   "execution_count": 85,
   "metadata": {},
   "outputs": [],
   "source": [
    "y_predict = tf.math.argmax(out3,axis=-1)"
   ]
  },
  {
   "cell_type": "code",
   "execution_count": 86,
   "metadata": {},
   "outputs": [
    {
     "data": {
      "text/plain": [
       "(<tf.Tensor: shape=(10000,), dtype=int64, numpy=array([7, 2, 1, ..., 4, 6, 6], dtype=int64)>,\n",
       " <tf.Tensor: shape=(10000,), dtype=int32, numpy=array([7, 2, 1, ..., 4, 5, 6])>)"
      ]
     },
     "execution_count": 86,
     "metadata": {},
     "output_type": "execute_result"
    }
   ],
   "source": [
    "y_predict,y_test"
   ]
  },
  {
   "cell_type": "code",
   "execution_count": 87,
   "metadata": {},
   "outputs": [],
   "source": [
    "y_test = tf.cast(y_test,tf.int64) #强制转换"
   ]
  },
  {
   "cell_type": "code",
   "execution_count": 88,
   "metadata": {},
   "outputs": [
    {
     "data": {
      "text/plain": [
       "<tf.Tensor: shape=(10000,), dtype=bool, numpy=array([ True,  True,  True, ...,  True, False,  True])>"
      ]
     },
     "execution_count": 88,
     "metadata": {},
     "output_type": "execute_result"
    }
   ],
   "source": [
    "y_c=tf.math.equal(y_predict,y_test)\n",
    "y_c"
   ]
  },
  {
   "cell_type": "code",
   "execution_count": 89,
   "metadata": {},
   "outputs": [
    {
     "data": {
      "text/plain": [
       "<tf.Tensor: shape=(10000,), dtype=int64, numpy=array([1, 1, 1, ..., 1, 0, 1], dtype=int64)>"
      ]
     },
     "execution_count": 89,
     "metadata": {},
     "output_type": "execute_result"
    }
   ],
   "source": [
    "y_c = tf.cast(y_c,tf.int64)\n",
    "y_c"
   ]
  },
  {
   "cell_type": "code",
   "execution_count": 90,
   "metadata": {},
   "outputs": [
    {
     "data": {
      "text/plain": [
       "0.7782"
      ]
     },
     "execution_count": 90,
     "metadata": {},
     "output_type": "execute_result"
    }
   ],
   "source": [
    "r = tf.math.reduce_sum(y_c) / 10000\n",
    "r.numpy()"
   ]
  }
 ],
 "metadata": {
  "kernelspec": {
   "display_name": "Python 3",
   "language": "python",
   "name": "python3"
  },
  "language_info": {
   "codemirror_mode": {
    "name": "ipython",
    "version": 3
   },
   "file_extension": ".py",
   "mimetype": "text/x-python",
   "name": "python",
   "nbconvert_exporter": "python",
   "pygments_lexer": "ipython3",
   "version": "3.8.5"
  }
 },
 "nbformat": 4,
 "nbformat_minor": 4
}
